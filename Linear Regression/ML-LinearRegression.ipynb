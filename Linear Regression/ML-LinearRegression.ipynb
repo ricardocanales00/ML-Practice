{
 "cells": [
  {
   "cell_type": "markdown",
   "id": "fc9aef27-df37-4f99-b795-955ef937d076",
   "metadata": {
    "tags": []
   },
   "source": [
    "# Linear regression using one variable"
   ]
  },
  {
   "cell_type": "markdown",
   "id": "25f3f5d6-c778-45eb-9523-45e4ee08d347",
   "metadata": {},
   "source": [
    "#### This excersice simulates the linear regression algorithm that would look at the values and find an expected formula using one single variables.\n",
    "The task is to calculate the value of a house based on the area in fts^2"
   ]
  },
  {
   "cell_type": "markdown",
   "id": "94755f34-1ba1-411a-b2c0-59c13e7fb4a9",
   "metadata": {},
   "source": [
    "Importing the necessary libraries"
   ]
  },
  {
   "cell_type": "code",
   "execution_count": null,
   "id": "e8c7f899-bd53-4bd9-928b-27fa8224217d",
   "metadata": {
    "tags": []
   },
   "outputs": [],
   "source": [
    "import numpy as np\n",
    "import matplotlib.pyplot as plt\n",
    "plt.style.use('Documents/GitHub/ML-Practice/Linear Regression/deeplearning.mplstyle')"
   ]
  },
  {
   "cell_type": "code",
   "execution_count": null,
   "id": "6fbdcc1e-ecb4-4e74-9c2f-06cf6d329161",
   "metadata": {
    "tags": []
   },
   "outputs": [],
   "source": [
    "# The next are the rainning variables, in this case X_train is the number of fts and Y_train is the price for those. Eg. for a house of a 1ft^2 the price is $300\n",
    "x_train = np.array([1.0, 2.0])\n",
    "y_train = np.array([300.0, 500.0])\n",
    "print(f\"x_train = {x_train}\")\n",
    "print(f\"y_train = {y_train}\")"
   ]
  },
  {
   "cell_type": "code",
   "execution_count": null,
   "id": "e71bbe06-0f35-405e-a8ed-0c90f9fdd11b",
   "metadata": {},
   "outputs": [],
   "source": [
    "# To calculate the number of trainning examples, we get the shape of the vector[0] in the array\n",
    "m = len(x_train)\n",
    "print(f\"The length of X_train is: {m}\")"
   ]
  },
  {
   "cell_type": "markdown",
   "id": "93d8dd53-f41a-4742-bfd5-7077fb85aa51",
   "metadata": {},
   "source": [
    "#### Trainning algorithm"
   ]
  },
  {
   "cell_type": "code",
   "execution_count": null,
   "id": "4d13a5f6-a8af-416f-b77a-83847dd5c16f",
   "metadata": {
    "tags": []
   },
   "outputs": [],
   "source": [
    "#Trainning the first oredered pair\n",
    "i = 0\n",
    "\n",
    "x_i = x_train[i]\n",
    "y_i = y_train[i]\n",
    "print(f\"(x^({i}), y^({i})) = ({x_i}, {y_i})\")"
   ]
  },
  {
   "cell_type": "code",
   "execution_count": null,
   "id": "e2f2135d-2899-4e95-bc74-0f5d96bb0433",
   "metadata": {
    "tags": []
   },
   "outputs": [],
   "source": [
    "# This is how the data looks like as of the values we have\n",
    "plt.scatter(x_train, y_train, marker='x', c='r')\n",
    "# Graph title\n",
    "plt.title(\"Prices\")\n",
    "# Labels\n",
    "# Y-axis\n",
    "plt.ylabel('Price (in 1000s of dollars)')\n",
    "# x-axis label\n",
    "plt.xlabel('Size (1000 sqft)')\n",
    "plt.show()"
   ]
  },
  {
   "cell_type": "code",
   "execution_count": null,
   "id": "56d5fad1-a7b4-4f54-9188-dd3e0f121385",
   "metadata": {
    "tags": []
   },
   "outputs": [],
   "source": [
    "#The first guess of the values w and b\n",
    "w = 200\n",
    "b = 100\n",
    "print(f\"w: {w}\")\n",
    "print(f\"b: {b}\")"
   ]
  },
  {
   "cell_type": "code",
   "execution_count": null,
   "id": "469faf1e-396f-415d-8f4b-59a20bf3cd9e",
   "metadata": {
    "tags": []
   },
   "outputs": [],
   "source": [
    "def compute_model_output(x, w, b):\n",
    "    \"\"\"\n",
    "    Computes the prediction of a linear model\n",
    "    Args:\n",
    "      x (ndarray (m,)): Data, m examples \n",
    "      w,b (scalar)    : model parameters  \n",
    "    Returns\n",
    "      f_wb (ndarray (m,)): model prediction\n",
    "    \"\"\"\n",
    "    m = len(x_train)\n",
    "    f_wb = np.zeros(m)\n",
    "    for i in range(m):\n",
    "        #Applies the direct formula of Fwb=wx+b\n",
    "        f_wb[i] = w * x[i] + b\n",
    "    return f_wb"
   ]
  },
  {
   "cell_type": "code",
   "execution_count": null,
   "id": "e65beaa3-bea3-4507-840b-ada28a4c3fd2",
   "metadata": {
    "tags": []
   },
   "outputs": [],
   "source": [
    "tmp_f_wb = compute_model_output(x_train, w, b,)\n",
    "\n",
    "# Plot our model prediction\n",
    "plt.plot(x_train, tmp_f_wb, c='b',label='Algorithms Prediction')\n",
    "\n",
    "# Plot the data points\n",
    "plt.scatter(x_train, y_train, marker='x', c='r',label='Real Values')\n",
    "\n",
    "# Graph title\n",
    "plt.title(\"Prices\")\n",
    "# Labels\n",
    "# Y-axis\n",
    "plt.ylabel('Price (in 1000s of dollars)')\n",
    "# x-axis label\n",
    "plt.xlabel('Size (1000 sqft)')\n",
    "plt.legend()\n",
    "plt.show()"
   ]
  },
  {
   "cell_type": "code",
   "execution_count": null,
   "id": "11fd1390-e2fb-4527-b9ba-9df6757751cc",
   "metadata": {
    "tags": []
   },
   "outputs": [],
   "source": [
    "#Calculating a value based on the formula we got\n",
    "w = 200                         \n",
    "b = 100    \n",
    "x_i = 1.2\n",
    "cost_1200sqft = w * x_i + b    \n",
    "\n",
    "print(f\"For a house of {x_i}sqrt the cost would of be of:\")\n",
    "print(f\"${cost_1200sqft:.0f} thousand dollars\")"
   ]
  },
  {
   "cell_type": "code",
   "execution_count": null,
   "id": "17e10752-87ec-4d10-b855-1c16b9e28a16",
   "metadata": {},
   "outputs": [],
   "source": []
  }
 ],
 "metadata": {
  "kernelspec": {
   "display_name": "Python 3 (ipykernel)",
   "language": "python",
   "name": "python3"
  },
  "language_info": {
   "codemirror_mode": {
    "name": "ipython",
    "version": 3
   },
   "file_extension": ".py",
   "mimetype": "text/x-python",
   "name": "python",
   "nbconvert_exporter": "python",
   "pygments_lexer": "ipython3",
   "version": "3.11.5"
  }
 },
 "nbformat": 4,
 "nbformat_minor": 5
}
